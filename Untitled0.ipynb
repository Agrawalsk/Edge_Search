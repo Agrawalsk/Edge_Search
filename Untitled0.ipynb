{
  "nbformat": 4,
  "nbformat_minor": 0,
  "metadata": {
    "colab": {
      "provenance": [],
      "authorship_tag": "ABX9TyPIylczf/YqbmyDk6nnKs52",
      "include_colab_link": true
    },
    "kernelspec": {
      "name": "python3",
      "display_name": "Python 3"
    },
    "language_info": {
      "name": "python"
    }
  },
  "cells": [
    {
      "cell_type": "markdown",
      "metadata": {
        "id": "view-in-github",
        "colab_type": "text"
      },
      "source": [
        "<a href=\"https://colab.research.google.com/github/Agrawalsk/Edge_Search/blob/main/Untitled0.ipynb\" target=\"_parent\"><img src=\"https://colab.research.google.com/assets/colab-badge.svg\" alt=\"Open In Colab\"/></a>"
      ]
    },
    {
      "cell_type": "code",
      "execution_count": 8,
      "metadata": {
        "colab": {
          "base_uri": "https://localhost:8080/"
        },
        "id": "vzMnYSZyUADY",
        "outputId": "a7796794-7bc1-453e-993c-8d918f704499"
      },
      "outputs": [
        {
          "output_type": "stream",
          "name": "stdout",
          "text": [
            "(array([], dtype=int64),)\n",
            "                competitorname  chocolate  fruity  caramel  peanutyalmondy  \\\n",
            "0                    100 Grand          1       0        1               0   \n",
            "1                 3 Musketeers          1       0        0               0   \n",
            "2                     One dime          0       0        0               0   \n",
            "3                  One quarter          0       0        0               0   \n",
            "4                    Air Heads          0       1        0               0   \n",
            "..                         ...        ...     ...      ...             ...   \n",
            "80                   Twizzlers          0       1        0               0   \n",
            "81                    Warheads          0       1        0               0   \n",
            "82        Welch's Fruit Snacks          0       1        0               0   \n",
            "83  Werther's Original Caramel          0       0        1               0   \n",
            "84                    Whoppers          1       0        0               0   \n",
            "\n",
            "    nougat  crispedricewafer  hard  bar  pluribus  sugarpercent  pricepercent  \\\n",
            "0        0                 1     0    1         0         0.732         0.860   \n",
            "1        1                 0     0    1         0         0.604         0.511   \n",
            "2        0                 0     0    0         0         0.011         0.116   \n",
            "3        0                 0     0    0         0         0.011         0.511   \n",
            "4        0                 0     0    0         0         0.906         0.511   \n",
            "..     ...               ...   ...  ...       ...           ...           ...   \n",
            "80       0                 0     0    0         0         0.220         0.116   \n",
            "81       0                 0     1    0         0         0.093         0.116   \n",
            "82       0                 0     0    0         1         0.313         0.313   \n",
            "83       0                 0     1    0         0         0.186         0.267   \n",
            "84       0                 1     0    0         1         0.872         0.848   \n",
            "\n",
            "    winpercent  \n",
            "0    66.971725  \n",
            "1    67.602936  \n",
            "2    32.261086  \n",
            "3    46.116505  \n",
            "4    52.341465  \n",
            "..         ...  \n",
            "80   45.466282  \n",
            "81   39.011898  \n",
            "82   44.375519  \n",
            "83   41.904308  \n",
            "84   49.524113  \n",
            "\n",
            "[85 rows x 13 columns]\n"
          ]
        }
      ],
      "source": [
        "import numpy as np;\n",
        "import pandas as pd;\n",
        "a=np.array([1,2,3])\n",
        "b=np.array([4,5,6])\n",
        "c=np.where(a==4)\n",
        "print(c)\n",
        "a=pd.read_csv(\"/content/candy-data.csv\");\n",
        "print(a);"
      ]
    }
  ]
}